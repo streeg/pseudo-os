{
 "cells": [
  {
   "cell_type": "code",
   "execution_count": 22,
   "metadata": {},
   "outputs": [],
   "source": [
    "number_of_cylinder = 199 # numero de cilindros\n",
    "init_head = 53 # posição inicial da cabeça de leitura e gravação\n",
    "req = [98,183,37,122,14,124,65,67] # requisições\n",
    "\n",
    "# FCFS > fila\n",
    "\n",
    "# all_positions = req.insert(0, init_head)\n",
    "\n",
    "moves = 0\n",
    "# shortest seek time first\n",
    "\n",
    "def short_distance(req,head):\n",
    "    distances = [abs(r - head) for r in req]\n",
    "    #print('distancias', distances)\n",
    "    \n",
    "    #abs_distance = [abs(d) for d in distances]\n",
    "    min_distance = min(distances)\n",
    "    i = distances.index(min_distance)\n",
    "    # moves += min_distance\n",
    "    return i,min_distance"
   ]
  },
  {
   "cell_type": "code",
   "execution_count": 23,
   "metadata": {},
   "outputs": [
    {
     "name": "stdout",
     "output_type": "stream",
     "text": [
      "[98, 183, 37, 122, 14, 124, 65, 67]\n",
      "[98, 183, 37, 122, 14, 124, 67]\n",
      "[98, 183, 37, 122, 14, 124]\n",
      "[98, 183, 122, 14, 124]\n",
      "[98, 183, 122, 124]\n",
      "[183, 122, 124]\n",
      "[183, 124]\n",
      "[183]\n",
      "SSF = 236\n"
     ]
    }
   ],
   "source": [
    "number_of_req = len(req)\n",
    "while number_of_req > 0:\n",
    "    print(req)\n",
    "    #print('head',init_head)\n",
    "    i, m = short_distance(req,init_head)\n",
    "    #print('distancia min', m)\n",
    "    moves += m\n",
    "    # i = findIndex(m, init_head, req)\n",
    "    #i = req.index(m+init_head)\n",
    "    init_head = req[i]\n",
    "    #print('head',init_head)\n",
    "    req = [r for r in req if r!=req[i]]\n",
    "    #print(req)\n",
    "    number_of_req -= 1\n",
    "\n",
    "print(\"SSF =\", moves)"
   ]
  },
  {
   "cell_type": "code",
   "execution_count": 27,
   "metadata": {},
   "outputs": [
    {
     "name": "stdout",
     "output_type": "stream",
     "text": [
      "None\n"
     ]
    }
   ],
   "source": [
    "number_of_cylinder = 199 # numero de cilindros\n",
    "init_head = 53 # posição inicial da cabeça de leitura e gravação\n",
    "req = [98,183,37,122,14,124,65,67] # requisições\n",
    "\n",
    "# FCFS > fila\n",
    "\n",
    "req.insert(0, init_head)\n",
    "\n",
    "moves = 0\n",
    "for i,r in enumerate(req):\n",
    "    if i < (len(req)-1):\n",
    "        moves += abs(req[i+1] - req[i])\n",
    "        "
   ]
  },
  {
   "cell_type": "code",
   "execution_count": 28,
   "metadata": {},
   "outputs": [
    {
     "data": {
      "text/plain": [
       "640"
      ]
     },
     "execution_count": 28,
     "metadata": {},
     "output_type": "execute_result"
    }
   ],
   "source": [
    "moves"
   ]
  },
  {
   "cell_type": "code",
   "execution_count": null,
   "metadata": {},
   "outputs": [],
   "source": []
  }
 ],
 "metadata": {
  "kernelspec": {
   "display_name": "Python 3",
   "language": "python",
   "name": "python3"
  },
  "language_info": {
   "codemirror_mode": {
    "name": "ipython",
    "version": 3
   },
   "file_extension": ".py",
   "mimetype": "text/x-python",
   "name": "python",
   "nbconvert_exporter": "python",
   "pygments_lexer": "ipython3",
   "version": "3.7.6"
  }
 },
 "nbformat": 4,
 "nbformat_minor": 4
}
